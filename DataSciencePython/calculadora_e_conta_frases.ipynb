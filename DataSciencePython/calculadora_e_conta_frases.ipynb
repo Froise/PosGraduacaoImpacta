{
 "cells": [
  {
   "cell_type": "code",
   "execution_count": 130,
   "metadata": {},
   "outputs": [],
   "source": [
    "#exemplo simples de calculadora com classe e função\n",
    "\n",
    "class calculadora():\n",
    "    def soma(self,x,y):\n",
    "        return x + y\n",
    "\n",
    "    def subtracao(self,x,y):\n",
    "        return x - y\n",
    "\n",
    "    def multiplicacao(self,x,y):\n",
    "        return x * y\n",
    "\n",
    "    def divisao(self,x,y):\n",
    "        if y == 0:\n",
    "            resultado = \"Valor não pode ser 0\"\n",
    "        else:\n",
    "            resultado = x / y\n",
    "        return resultado\n",
    "\n",
    "\n",
    "def contar_letras_frases(lista):\n",
    "    dicio = {}\n",
    "    for palavra in lista:\n",
    "        if palavra not in dicio.keys():\n",
    "            dicio[palavra] = 1\n",
    "        else:\n",
    "            valor = dicio[palavra] + 1\n",
    "            dicio[palavra] = valor\n",
    "        \n",
    "        resultado = [f'\"{x}\" contém {y} letras' for x,y in dicio.items()]\n",
    "    return resultado\n",
    "\n",
    "\n",
    "def contar_quantidade_caracteres(texto):\n",
    "    qtd_letras = len([x for x in texto])\n",
    "    return f\"Contém {qtd_letras} caracteres\"\n"
   ]
  },
  {
   "cell_type": "code",
   "execution_count": 131,
   "metadata": {},
   "outputs": [],
   "source": [
    "c = calculadora()\n",
    "n1 = int(input())\n",
    "n2 = int(input())\n",
    "#frase = input(\"Digite sua frase\")\n",
    "frase = 'Meu nome é Françoise, mas meu apelido é Fran'\n",
    "\n"
   ]
  },
  {
   "cell_type": "code",
   "execution_count": 132,
   "metadata": {},
   "outputs": [
    {
     "name": "stdout",
     "output_type": "stream",
     "text": [
      "10\n",
      "10\n",
      "0\n",
      "Valor não pode ser 0\n",
      "['\"M\" contém 1 letras', '\"e\" contém 5 letras', '\"u\" contém 2 letras', '\" \" contém 8 letras', '\"n\" contém 3 letras', '\"o\" contém 3 letras', '\"m\" contém 3 letras', '\"é\" contém 2 letras', '\"F\" contém 2 letras', '\"r\" contém 2 letras', '\"a\" contém 4 letras', '\"ç\" contém 1 letras', '\"i\" contém 2 letras', '\"s\" contém 2 letras', '\",\" contém 1 letras', '\"p\" contém 1 letras', '\"l\" contém 1 letras', '\"d\" contém 1 letras']\n",
      "['\"meu\" contém 2 letras', '\"nome\" contém 1 letras', '\"é\" contém 2 letras', '\"françoise,\" contém 1 letras', '\"mas\" contém 1 letras', '\"apelido\" contém 1 letras', '\"fran\" contém 1 letras']\n",
      "Contém 44 caracteres\n"
     ]
    }
   ],
   "source": [
    "print(c.soma(n1,n2))\n",
    "print(c.subtracao(n1,n2))\n",
    "print(c.multiplicacao(n1,n2))\n",
    "print(c.divisao(n1,n2))\n",
    "\n",
    "palavras = frase.lower().split(' ')\n",
    "print(contar_letras_frases(frase))\n",
    "print(contar_letras_frases(palavras))\n",
    "print(contar_quantidade_caracteres(frase))\n",
    "\n"
   ]
  },
  {
   "cell_type": "code",
   "execution_count": null,
   "metadata": {},
   "outputs": [],
   "source": []
  }
 ],
 "metadata": {
  "interpreter": {
   "hash": "83a3aa328f9013a39b101a6ac27945409a429d6fbc85244dc3d2ae0e2a4f8ad2"
  },
  "kernelspec": {
   "display_name": "Python 3.9.7 64-bit ('venv': venv)",
   "name": "python3"
  },
  "language_info": {
   "codemirror_mode": {
    "name": "ipython",
    "version": 3
   },
   "file_extension": ".py",
   "mimetype": "text/x-python",
   "name": "python",
   "nbconvert_exporter": "python",
   "pygments_lexer": "ipython3",
   "version": "3.9.7"
  },
  "orig_nbformat": 4
 },
 "nbformat": 4,
 "nbformat_minor": 2
}
