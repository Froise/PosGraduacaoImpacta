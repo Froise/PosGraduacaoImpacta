{
 "cells": [
  {
   "cell_type": "code",
   "execution_count": 59,
   "metadata": {},
   "outputs": [],
   "source": [
    "#exemplo simples de calculadora com classe e função\n",
    "\n",
    "class calculadora():\n",
    "    def soma(self,x,y):\n",
    "        return x + y\n",
    "\n",
    "    def subtracao(self,x,y):\n",
    "        return x - y\n",
    "\n",
    "    def multiplicacao(self,x,y):\n",
    "        return x * y\n",
    "\n",
    "    def divisao(self,x,y):\n",
    "        if y == 0:\n",
    "            resultado = \"ERROR Valor a ser divivido não pode ser 0\"\n",
    "        else:\n",
    "            resultado = x / y\n",
    "        return resultado\n",
    "\n",
    "\n",
    "def contar_letras_frases(lista):\n",
    "    dicio = {}\n",
    "    for palavra in lista:\n",
    "        if palavra not in dicio.keys():\n",
    "            dicio[palavra] = 1\n",
    "        else:\n",
    "            valor = dicio[palavra] + 1\n",
    "            dicio[palavra] = valor\n",
    "        \n",
    "        resultado = [f'\"{x}\" = {y}' for x,y in dicio.items()]\n",
    "    return resultado\n",
    "\n",
    "\n",
    "def contar_quantidade_caracteres(texto):\n",
    "    qtd_letras = len([x for x in texto])\n",
    "    return f\"Contém {qtd_letras} caracteres\"\n"
   ]
  },
  {
   "cell_type": "code",
   "execution_count": 60,
   "metadata": {},
   "outputs": [],
   "source": [
    "c = calculadora()\n",
    "n1 = int(input())\n",
    "n2 = int(input())\n",
    "frase = input(\"Digite sua frase\")\n",
    "#frase = 'Meu nome é Françoise, mas meu apelido é Fran'\n",
    "\n"
   ]
  },
  {
   "cell_type": "code",
   "execution_count": 61,
   "metadata": {},
   "outputs": [
    {
     "name": "stdout",
     "output_type": "stream",
     "text": [
      "Resultado das contas\n",
      "2 + 9 = 11\n",
      "2 - 9 = -7\n",
      "2 * 9 = 18\n",
      "2 / 9 = 0.2222222222222222\n"
     ]
    }
   ],
   "source": [
    "print('Resultado das contas')\n",
    "valor = f'{n1}'\n",
    "print(f\"{n1} + {n2} = {c.soma(n1,n2)}\")\n",
    "print(f\"{n1} - {n2} = {c.subtracao(n1,n2)}\")\n",
    "print(f\"{n1} * {n2} = {c.multiplicacao(n1,n2)}\")\n",
    "print(f\"{n1} / {n2} = {c.divisao(n1,n2)}\")\n",
    "\n"
   ]
  },
  {
   "cell_type": "code",
   "execution_count": 69,
   "metadata": {},
   "outputs": [
    {
     "name": "stdout",
     "output_type": "stream",
     "text": [
      "Resultado das frases\n",
      "Contém 44 caracteres\n",
      "Quantidade que as letras se repetem: \n",
      " ['\"M\" = 1', '\"e\" = 5', '\"u\" = 2', '\" \" = 8', '\"n\" = 3', '\"o\" = 3', '\"m\" = 3', '\"é\" = 2', '\"F\" = 2', '\"r\" = 2', '\"a\" = 4', '\"ç\" = 1', '\"i\" = 2', '\"s\" = 2', '\",\" = 1', '\"p\" = 1', '\"l\" = 1', '\"d\" = 1']\n",
      "Quantidade que as palavras se repetem: \n",
      " ['\"meu\" = 2', '\"nome\" = 1', '\"é\" = 2', '\"françoise,\" = 1', '\"mas\" = 1', '\"apelido\" = 1', '\"fran\" = 1']\n"
     ]
    }
   ],
   "source": [
    "print(\"Resultado das frases\")\n",
    "palavras = frase.lower().split(' ')\n",
    "print(contar_quantidade_caracteres(frase))\n",
    "print(\"Quantidade que as letras se repetem: \\n\",contar_letras_frases(frase))\n",
    "print(\"Quantidade que as palavras se repetem: \\n\",contar_letras_frases(palavras))\n"
   ]
  },
  {
   "cell_type": "code",
   "execution_count": null,
   "metadata": {},
   "outputs": [],
   "source": []
  },
  {
   "cell_type": "code",
   "execution_count": null,
   "metadata": {},
   "outputs": [],
   "source": []
  }
 ],
 "metadata": {
  "interpreter": {
   "hash": "83a3aa328f9013a39b101a6ac27945409a429d6fbc85244dc3d2ae0e2a4f8ad2"
  },
  "kernelspec": {
   "display_name": "Python 3.9.7 64-bit ('venv': venv)",
   "name": "python3"
  },
  "language_info": {
   "codemirror_mode": {
    "name": "ipython",
    "version": 3
   },
   "file_extension": ".py",
   "mimetype": "text/x-python",
   "name": "python",
   "nbconvert_exporter": "python",
   "pygments_lexer": "ipython3",
   "version": "3.9.7"
  },
  "orig_nbformat": 4
 },
 "nbformat": 4,
 "nbformat_minor": 2
}
